{
  "nbformat": 4,
  "nbformat_minor": 0,
  "metadata": {
    "colab": {
      "provenance": [],
      "authorship_tag": "ABX9TyOjU8YfnC2T3WxLVEniiYvt",
      "include_colab_link": true
    },
    "kernelspec": {
      "name": "python3",
      "display_name": "Python 3"
    },
    "language_info": {
      "name": "python"
    }
  },
  "cells": [
    {
      "cell_type": "markdown",
      "metadata": {
        "id": "view-in-github",
        "colab_type": "text"
      },
      "source": [
        "<a href=\"https://colab.research.google.com/github/Juansierraas/Talleres-de-Python/blob/main/Ejercicio_Practico_8.ipynb\" target=\"_parent\"><img src=\"https://colab.research.google.com/assets/colab-badge.svg\" alt=\"Open In Colab\"/></a>"
      ]
    },
    {
      "cell_type": "code",
      "execution_count": 17,
      "metadata": {
        "colab": {
          "base_uri": "https://localhost:8080/"
        },
        "id": "1oqp2M62zYa3",
        "outputId": "71cda398-ee32-4ca0-8d9c-be9df3eb6b49"
      },
      "outputs": [
        {
          "output_type": "stream",
          "name": "stdout",
          "text": [
            "Bienvenido, este programa le permitira hacer la tabla completa de multiplicación del 0 al 10 de cualquier número que digite\n",
            "Ingresa el número que deseas multiplicar: 3\n",
            "3 x 0 = 0\n",
            "3 x 1 = 3\n",
            "3 x 2 = 6\n",
            "3 x 3 = 9\n",
            "3 x 4 = 12\n",
            "3 x 5 = 15\n",
            "3 x 6 = 18\n",
            "3 x 7 = 21\n",
            "3 x 8 = 24\n",
            "3 x 9 = 27\n",
            "3 x 10 = 30\n",
            "Fin del programa\n"
          ]
        }
      ],
      "source": [
        "print(\"Bienvenido, este programa le permitira hacer la tabla completa de multiplicación del 0 al 10 de cualquier número que digite\")\n",
        "numero = int(input(\"Ingresa el número que deseas multiplicar: \"))\n",
        "for contador in range(0,11):\n",
        "  resultado = numero * contador\n",
        "  print(f'{numero} x {contador} = {resultado}')\n",
        "print(\"Fin del programa\")\n"
      ]
    }
  ]
}