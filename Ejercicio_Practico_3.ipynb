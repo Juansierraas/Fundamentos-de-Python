{
  "nbformat": 4,
  "nbformat_minor": 0,
  "metadata": {
    "colab": {
      "provenance": [],
      "authorship_tag": "ABX9TyNJrXNR0SeL4+utE9v6+k2v",
      "include_colab_link": true
    },
    "kernelspec": {
      "name": "python3",
      "display_name": "Python 3"
    },
    "language_info": {
      "name": "python"
    }
  },
  "cells": [
    {
      "cell_type": "markdown",
      "metadata": {
        "id": "view-in-github",
        "colab_type": "text"
      },
      "source": [
        "<a href=\"https://colab.research.google.com/github/Juansierraas/Talleres-de-Python/blob/main/Ejercicio_Practico_3.ipynb\" target=\"_parent\"><img src=\"https://colab.research.google.com/assets/colab-badge.svg\" alt=\"Open In Colab\"/></a>"
      ]
    },
    {
      "cell_type": "code",
      "execution_count": null,
      "metadata": {
        "id": "S5iKX_uI7BJ8"
      },
      "outputs": [],
      "source": [
        "print(\"Bienvenido, el sistema te enseñara el numero mas grande entre 3 numeros que digites\")\n",
        "numero1 = int(input(\"Ingresa el primer numero: \"))\n",
        "numero2 = int(input(\"Ingresa el segundo numero: \"))\n",
        "numero3 = int(input(\"Ingresa el tercer numero: \"))\n",
        "if numero1 > numero2 and numero1 > numero3:\n",
        " print(f\"El numero {numero1} es el mas grande de los tres\")\n",
        "elif numero2 > numero1 and numero2 > numero3:\n",
        " print(f\"El numero {numero2} es el mas grande de los tres\")\n",
        "elif numero3 > numero1 and numero3 > numero2:\n",
        " print(f\"El numero {numero3} es el mas grande de los tres\")\n",
        "else:\n",
        "  print(\"Los tres numeros son iguales\")\n",
        "print(\"Fin\")"
      ]
    }
  ]
}