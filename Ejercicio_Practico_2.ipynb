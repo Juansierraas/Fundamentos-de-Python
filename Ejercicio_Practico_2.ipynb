{
  "nbformat": 4,
  "nbformat_minor": 0,
  "metadata": {
    "colab": {
      "provenance": [],
      "authorship_tag": "ABX9TyOuxxPgU89AVuXE2NEszIvv",
      "include_colab_link": true
    },
    "kernelspec": {
      "name": "python3",
      "display_name": "Python 3"
    },
    "language_info": {
      "name": "python"
    }
  },
  "cells": [
    {
      "cell_type": "markdown",
      "metadata": {
        "id": "view-in-github",
        "colab_type": "text"
      },
      "source": [
        "<a href=\"https://colab.research.google.com/github/Juansierraas/Talleres-de-Python/blob/main/Ejercicio_Practico_2.ipynb\" target=\"_parent\"><img src=\"https://colab.research.google.com/assets/colab-badge.svg\" alt=\"Open In Colab\"/></a>"
      ]
    },
    {
      "cell_type": "code",
      "execution_count": null,
      "metadata": {
        "id": "PMFGTzaa0hQH",
        "colab": {
          "base_uri": "https://localhost:8080/"
        },
        "outputId": "c0cb7c54-47b8-473f-ab03-78c024b96ca3"
      },
      "outputs": [
        {
          "output_type": "stream",
          "name": "stdout",
          "text": [
            "Introduce un número entero: 2\n",
            "El numero 2 es par.\n",
            "fin\n"
          ]
        }
      ],
      "source": [
        "numero = int(input(\"Introduce un número entero: \"))\n",
        "prueba = numero % 2\n",
        "if prueba == 0:\n",
        " print('El numero ' + str(numero) + ' es par.')\n",
        "else:\n",
        " print('El numero ' + str(numero) + ' es impar.')\n",
        "\n",
        "print (\"fin\")"
      ]
    }
  ]
}