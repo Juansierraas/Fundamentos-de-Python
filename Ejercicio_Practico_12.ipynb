{
  "nbformat": 4,
  "nbformat_minor": 0,
  "metadata": {
    "colab": {
      "provenance": [],
      "authorship_tag": "ABX9TyMrWVv/AOeh4A3IfTrU3mXO",
      "include_colab_link": true
    },
    "kernelspec": {
      "name": "python3",
      "display_name": "Python 3"
    },
    "language_info": {
      "name": "python"
    }
  },
  "cells": [
    {
      "cell_type": "markdown",
      "metadata": {
        "id": "view-in-github",
        "colab_type": "text"
      },
      "source": [
        "<a href=\"https://colab.research.google.com/github/Juansierraas/Talleres-de-Python/blob/main/Ejercicio_Practico_12.ipynb\" target=\"_parent\"><img src=\"https://colab.research.google.com/assets/colab-badge.svg\" alt=\"Open In Colab\"/></a>"
      ]
    },
    {
      "cell_type": "code",
      "execution_count": 5,
      "metadata": {
        "colab": {
          "base_uri": "https://localhost:8080/"
        },
        "id": "xlntLXd44dqU",
        "outputId": "6f2a5fc2-fb5a-4ced-9cb8-18ac03975025"
      },
      "outputs": [
        {
          "output_type": "stream",
          "name": "stdout",
          "text": [
            "Bienvenido, este programa hara la tarea de eliminar 2 elementos de una lista y al final imprimira la lista original sin dichos elementos y la nueva con ambos elementos eliminados\n",
            "La lista de elementos originales quedara asi: [2, 3, 4]\n",
            "La nueva lista con los elementos eliminados quedara asi: [1, 5]\n"
          ]
        }
      ],
      "source": [
        "print(\"Bienvenido, este programa hara la tarea de eliminar 2 elementos de una lista y al final imprimira la lista original sin dichos elementos y la nueva con ambos elementos eliminados\")\n",
        "numeros = [1, 2, 3, 4, 5]\n",
        "numeros_eliminados = []\n",
        "numeros_eliminados.append(numeros.pop(0))\n",
        "numeros_eliminados.append(numeros.pop(-1))\n",
        "print(f'La lista de elementos originales quedara asi: {numeros}')\n",
        "print(f'La nueva lista con los elementos eliminados quedara asi: {numeros_eliminados}')"
      ]
    }
  ]
}