{
  "nbformat": 4,
  "nbformat_minor": 0,
  "metadata": {
    "colab": {
      "provenance": [],
      "authorship_tag": "ABX9TyOn8NU/tdL26rBRseHS+SYJ",
      "include_colab_link": true
    },
    "kernelspec": {
      "name": "python3",
      "display_name": "Python 3"
    },
    "language_info": {
      "name": "python"
    }
  },
  "cells": [
    {
      "cell_type": "markdown",
      "metadata": {
        "id": "view-in-github",
        "colab_type": "text"
      },
      "source": [
        "<a href=\"https://colab.research.google.com/github/Juansierraas/Talleres-de-Python/blob/main/Ejercicio_Practico_11.ipynb\" target=\"_parent\"><img src=\"https://colab.research.google.com/assets/colab-badge.svg\" alt=\"Open In Colab\"/></a>"
      ]
    },
    {
      "cell_type": "code",
      "source": [
        "print(\"Este programa le permitira eliminar un elemento de la lista a continuación, por favor digite el elemento correctamente\")\n",
        "print(\"NOTA: Adiccionalmente el programa no tendra problemas entre mayusculas y minusculas\")\n",
        "lista = [\"A\", \"B\", \"b\", \"c\", \"E\", \"E\", \"f\"]\n",
        "caracter = input(\"Introduce el elemento que deseas eliminar: \").upper()\n",
        "i = 0\n",
        "if caracter in lista:\n",
        " while i < len(lista):\n",
        "    if lista[i].upper() == caracter:\n",
        "        lista.pop(i)\n",
        "    else:\n",
        "        i += 1\n",
        "else:\n",
        " print(\"El caracter ingresado no se encuentra en la lista\")\n",
        "print(\"La lista sin el elemento ingresado quedara asi: \", lista)\n",
        "print(\"Fin\")"
      ],
      "metadata": {
        "colab": {
          "base_uri": "https://localhost:8080/"
        },
        "id": "f0h-AuUnXCWN",
        "outputId": "0b4ea4f6-9bc5-45d2-e0d2-1a855b373838"
      },
      "execution_count": 60,
      "outputs": [
        {
          "output_type": "stream",
          "name": "stdout",
          "text": [
            "Este programa le permitira eliminar un elemento de la lista a continuación, por favor digite el elemento correctamente\n",
            "NOTA: Adiccionalmente el programa no tendra problemas entre mayusculas y minusculas\n",
            "Introduce el elemento que deseas eliminar: b\n",
            "La lista sin el elemento ingresado quedara asi:  ['A', 'c', 'E', 'E', 'f']\n",
            "Fin\n"
          ]
        }
      ]
    }
  ]
}