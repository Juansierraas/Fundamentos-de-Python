{
  "nbformat": 4,
  "nbformat_minor": 0,
  "metadata": {
    "colab": {
      "provenance": [],
      "authorship_tag": "ABX9TyPGeyPTZQxdQccSp9UKps9F",
      "include_colab_link": true
    },
    "kernelspec": {
      "name": "python3",
      "display_name": "Python 3"
    },
    "language_info": {
      "name": "python"
    }
  },
  "cells": [
    {
      "cell_type": "markdown",
      "metadata": {
        "id": "view-in-github",
        "colab_type": "text"
      },
      "source": [
        "<a href=\"https://colab.research.google.com/github/Juansierraas/Talleres-de-Python/blob/main/Ejercicio_Practico_1.ipynb\" target=\"_parent\"><img src=\"https://colab.research.google.com/assets/colab-badge.svg\" alt=\"Open In Colab\"/></a>"
      ]
    },
    {
      "cell_type": "code",
      "source": [
        "print('------------')\n",
        "print('|Bienvenido|')\n",
        "print('------------')\n",
        "print('Deseamos determinar la cantidad de dias vacacionales que tienes a disposición')\n",
        "nombre = input(\"Introduce tu nombre por favor: \")\n",
        "clave = int(input(\"Introduce la clave de tu departamento: (recuerda que la clave '1' es para Atención al Cliente, '2' es para Logistica y '3' es para Gerencia, un número distinto a estos no funcionara) \"))\n",
        "antiguedad = int(input(\"Introduce cuantos años has estado en la compañia: (recuerda digitarlos de forma numerica \"))\n",
        "#Condición 1\n",
        "if clave == 1 and antiguedad == 1:\n",
        "  print(\"Felicidades \" + nombre + \" tienes derecho a 6 dias de vacaciones.\")\n",
        "#Condición 2\n",
        "elif clave == 1 and 2 <= antiguedad <= 6:\n",
        "  print(\"Felicidades \" + nombre + \" tienes derecho a 14 dias de vacaciones.\")\n",
        "#Condición 3\n",
        "elif clave == 1 and antiguedad >= 7:\n",
        "  print(\"Felicidades \" + nombre + \" tienes derecho a 20 dias de vacaciones.\")\n",
        "#Condición 4\n",
        "elif clave == 2 and antiguedad == 1:\n",
        "  print(\"Felicidades \" + nombre + \" tienes derecho a 7 dias de vacaciones.\")\n",
        "#Condición 5\n",
        "elif clave == 2 and 2 <= antiguedad <= 6:\n",
        "  print(\"Felicidades \" + nombre + \" tienes derecho a 15 dias de vacaciones.\")\n",
        "#Condición 6\n",
        "elif clave == 2 and antiguedad >= 7:\n",
        "  print(\"Felicidades \" + nombre + \" tienes derecho a 22 dias de vacaciones.\")\n",
        "#Condición 7\n",
        "elif clave == 3 and antiguedad == 1:\n",
        "  print(\"Felicidades \" + nombre + \" tienes derecho a 10 dias de vacaciones.\")\n",
        "#Condición 8\n",
        "elif clave == 3 and 2 <= antiguedad <= 6:\n",
        "  print(\"Felicidades \" + nombre + \" tienes derecho a 20 dias de vacaciones.\")\n",
        "#Condición 9\n",
        "elif clave == 3 and antiguedad >= 7:\n",
        "  print(\"Felicidades \" + nombre + \" tienes derecho a 30 dias de vacaciones.\")\n",
        "else:\n",
        "  print(\"Lo sentimos \" + nombre + \" pero no cumples con los requisitos necesarios.\")\n",
        "print(\"Gracias por su atención\")\n"
      ],
      "metadata": {
        "id": "kNJKVOu3fqV9"
      },
      "execution_count": null,
      "outputs": []
    },
    {
      "cell_type": "markdown",
      "source": [],
      "metadata": {
        "id": "FOHdEeHffqK_"
      }
    }
  ]
}