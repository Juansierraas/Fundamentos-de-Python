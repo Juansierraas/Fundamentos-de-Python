{
  "nbformat": 4,
  "nbformat_minor": 0,
  "metadata": {
    "colab": {
      "provenance": [],
      "authorship_tag": "ABX9TyOUyuh5EbFP++hGpEDoJ2Kq",
      "include_colab_link": true
    },
    "kernelspec": {
      "name": "python3",
      "display_name": "Python 3"
    },
    "language_info": {
      "name": "python"
    }
  },
  "cells": [
    {
      "cell_type": "markdown",
      "metadata": {
        "id": "view-in-github",
        "colab_type": "text"
      },
      "source": [
        "<a href=\"https://colab.research.google.com/github/Juansierraas/Talleres-de-Python/blob/main/Ejercicio_Practico_7.ipynb\" target=\"_parent\"><img src=\"https://colab.research.google.com/assets/colab-badge.svg\" alt=\"Open In Colab\"/></a>"
      ]
    },
    {
      "cell_type": "code",
      "execution_count": 33,
      "metadata": {
        "colab": {
          "base_uri": "https://localhost:8080/"
        },
        "id": "LHjmK_hFgA7b",
        "outputId": "6c75cea0-b77a-4236-dc7d-032bef55b4ac"
      },
      "outputs": [
        {
          "output_type": "stream",
          "name": "stdout",
          "text": [
            "Bienvenido, este programa le permitira digitar una palabra, el sistema invertira las letras\n",
            "Ingresa la palabra: Esto es una prueba\n",
            "a\n",
            "b\n",
            "e\n",
            "u\n",
            "r\n",
            "p\n",
            " \n",
            "a\n",
            "n\n",
            "u\n",
            " \n",
            "s\n",
            "e\n",
            " \n",
            "o\n",
            "t\n",
            "s\n",
            "E\n",
            "Fin del programa\n"
          ]
        }
      ],
      "source": [
        "print(\"Bienvenido, este programa le permitira digitar una palabra, el sistema invertira las letras\")\n",
        "string = (input(\"Ingresa la palabra: \"))\n",
        "for character in string[::-1]:\n",
        "  print(character)\n",
        "print(\"Fin del programa\")"
      ]
    }
  ]
}