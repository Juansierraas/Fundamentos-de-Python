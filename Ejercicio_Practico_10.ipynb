{
  "nbformat": 4,
  "nbformat_minor": 0,
  "metadata": {
    "colab": {
      "provenance": [],
      "authorship_tag": "ABX9TyNgO1ie5dqt9P4X/4nOSAoK",
      "include_colab_link": true
    },
    "kernelspec": {
      "name": "python3",
      "display_name": "Python 3"
    },
    "language_info": {
      "name": "python"
    }
  },
  "cells": [
    {
      "cell_type": "markdown",
      "metadata": {
        "id": "view-in-github",
        "colab_type": "text"
      },
      "source": [
        "<a href=\"https://colab.research.google.com/github/Juansierraas/Talleres-de-Python/blob/main/Ejercicio_Practico_10.ipynb\" target=\"_parent\"><img src=\"https://colab.research.google.com/assets/colab-badge.svg\" alt=\"Open In Colab\"/></a>"
      ]
    },
    {
      "cell_type": "code",
      "execution_count": 2,
      "metadata": {
        "colab": {
          "base_uri": "https://localhost:8080/"
        },
        "id": "xC82wUIIECTE",
        "outputId": "e730e86b-3ac7-4139-e3fe-600624aa884f"
      },
      "outputs": [
        {
          "output_type": "stream",
          "name": "stdout",
          "text": [
            "Bienvenido, este programa le permitira crear una lista con el tamaño que desee y asignarle los valores que usted desee, tenga en cuenta que todos deben ser numerales\n",
            "Ingresa la longitud de la lista: 3\n",
            "Ingresa un numero: 15\n",
            "Ingresa un numero: 25\n",
            "Ingresa un numero: 10\n",
            "La lista es:  [15, 25, 10]\n",
            "La suma de los elementos dentro de la lista es:  50\n"
          ]
        }
      ],
      "source": [
        "print(\"Bienvenido, este programa le permitira crear una lista con el tamaño que desee y asignarle los valores que usted desee, tenga en cuenta que todos deben ser numerales\")\n",
        "tamaño = input(\"Ingresa la longitud de la lista: \")\n",
        "tamaño_a_int = int(tamaño)\n",
        "longitud = tamaño_a_int\n",
        "lista = []\n",
        "for i in range(longitud):\n",
        "    elemento = int(input(\"Ingresa un numero: \"))\n",
        "    lista.append(elemento)\n",
        "print(\"La lista es: \", lista)\n",
        "suma = sum(lista)\n",
        "print(\"La suma de los elementos dentro de la lista es: \", suma)"
      ]
    }
  ]
}