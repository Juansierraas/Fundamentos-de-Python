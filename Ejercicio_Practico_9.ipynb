{
  "nbformat": 4,
  "nbformat_minor": 0,
  "metadata": {
    "colab": {
      "provenance": [],
      "authorship_tag": "ABX9TyMLkPBi/OqSnZoUbIKmBik3",
      "include_colab_link": true
    },
    "kernelspec": {
      "name": "python3",
      "display_name": "Python 3"
    },
    "language_info": {
      "name": "python"
    }
  },
  "cells": [
    {
      "cell_type": "markdown",
      "metadata": {
        "id": "view-in-github",
        "colab_type": "text"
      },
      "source": [
        "<a href=\"https://colab.research.google.com/github/Juansierraas/Talleres-de-Python/blob/main/Ejercicio_Practico_9.ipynb\" target=\"_parent\"><img src=\"https://colab.research.google.com/assets/colab-badge.svg\" alt=\"Open In Colab\"/></a>"
      ]
    },
    {
      "cell_type": "code",
      "execution_count": 1,
      "metadata": {
        "colab": {
          "base_uri": "https://localhost:8080/"
        },
        "id": "WdH55XFK5Kip",
        "outputId": "0aa71013-d5f9-47b8-f7e5-1cf8f4f53d76"
      },
      "outputs": [
        {
          "output_type": "stream",
          "name": "stdout",
          "text": [
            "Bienvenido, este programa le permitira digitar una frase y un caracter, tenga en cuenta las siguientes notas\n",
            "1- Su frase podra tener diferencia de mayusculas y minusculas\n",
            "2- El caracter puede ser una letra, un numero o un caracter especial\n",
            "3- El sistema eliminara todas las vocales, ya sean mayusculas o minusculas de su frase inicial\n",
            "4- Su frase podra tener diferencia de mayusculas y minusculas\n",
            "5- Si el digito se encuentra en la frase el sistema detendra la operacion\n",
            "Introduce la frase: Esto es una prueba $\n",
            "Introduce el caracter: $\n",
            "El caracter $ se encuentra en la frase, el sistema detendra la operación\n",
            "La frase sin vocales quedara asi: \n",
            "Fin del programa\n"
          ]
        }
      ],
      "source": [
        "print(\"Bienvenido, este programa le permitira digitar una frase y un caracter, tenga en cuenta las siguientes notas\")\n",
        "print(\"1- Su frase podra tener diferencia de mayusculas y minusculas\")\n",
        "print(\"2- El caracter puede ser una letra, un numero o un caracter especial\")\n",
        "print(\"3- El sistema eliminara todas las vocales, ya sean mayusculas o minusculas de su frase inicial\")\n",
        "print(\"4- Su frase podra tener diferencia de mayusculas y minusculas\")\n",
        "print(\"5- Si el digito se encuentra en la frase el sistema detendra la operacion\")\n",
        "frase = input(\"Introduce la frase: \")\n",
        "caracter = input(\"Introduce el caracter: \")\n",
        "frase_sin_vocales = \"\"\n",
        "for letra in frase:\n",
        "    if letra not in \"aeiouAEIOU\":\n",
        "        frase_sin_vocales += letra\n",
        "    if caracter in frase:\n",
        "      print(f\"El caracter {caracter} se encuentra en la frase, el sistema detendra la operación\")\n",
        "      break\n",
        "print(f\"La frase sin vocales quedara asi: {frase_sin_vocales}\")\n",
        "print(\"Fin del programa\")\n",
        "\n",
        "\n",
        "\n",
        "\n",
        "\n"
      ]
    }
  ]
}