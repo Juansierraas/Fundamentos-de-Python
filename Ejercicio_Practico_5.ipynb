{
  "nbformat": 4,
  "nbformat_minor": 0,
  "metadata": {
    "colab": {
      "provenance": [],
      "authorship_tag": "ABX9TyOlKyU3pKS4wXHEmGtZuY8d",
      "include_colab_link": true
    },
    "kernelspec": {
      "name": "python3",
      "display_name": "Python 3"
    },
    "language_info": {
      "name": "python"
    }
  },
  "cells": [
    {
      "cell_type": "markdown",
      "metadata": {
        "id": "view-in-github",
        "colab_type": "text"
      },
      "source": [
        "<a href=\"https://colab.research.google.com/github/Juansierraas/Talleres-de-Python/blob/main/Ejercicio_Practico_5.ipynb\" target=\"_parent\"><img src=\"https://colab.research.google.com/assets/colab-badge.svg\" alt=\"Open In Colab\"/></a>"
      ]
    },
    {
      "cell_type": "code",
      "execution_count": 2,
      "metadata": {
        "id": "ZO55UMQQ5CwT",
        "outputId": "ca9e6ca3-2c54-4159-d2b4-72483328f864",
        "colab": {
          "base_uri": "https://localhost:8080/"
        }
      },
      "outputs": [
        {
          "output_type": "stream",
          "name": "stdout",
          "text": [
            "Sucesion de Fibonacci\n",
            "Este programa imprimira la sucesion de fibonacci desde el 0 hasta el 1597\n",
            "0 1 1 2 3 5 8 13 21 34 55 89 144 233 377 610 987 1597 "
          ]
        }
      ],
      "source": [
        "print(\"Sucesion de Fibonacci\")\n",
        "print(\"Este programa imprimira la sucesion de fibonacci desde el 0 hasta el 1597\")\n",
        "x=0\n",
        "y=1\n",
        "p = 0\n",
        "print (x, end=' ')\n",
        "print (y, end=' ')\n",
        "while p < 1597:\n",
        "  p = x + y\n",
        "  x = y\n",
        "  y = p\n",
        "  print(p, end=' ')\n",
        "\n",
        "\n",
        "\n"
      ]
    }
  ]
}