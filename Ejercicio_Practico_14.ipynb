{
  "nbformat": 4,
  "nbformat_minor": 0,
  "metadata": {
    "colab": {
      "provenance": [],
      "authorship_tag": "ABX9TyPmIOQ9Kdb5vuJ+YZ2KNLbV",
      "include_colab_link": true
    },
    "kernelspec": {
      "name": "python3",
      "display_name": "Python 3"
    },
    "language_info": {
      "name": "python"
    }
  },
  "cells": [
    {
      "cell_type": "markdown",
      "metadata": {
        "id": "view-in-github",
        "colab_type": "text"
      },
      "source": [
        "<a href=\"https://colab.research.google.com/github/Juansierraas/Talleres-de-Python/blob/main/Ejercicio_Practico_14.ipynb\" target=\"_parent\"><img src=\"https://colab.research.google.com/assets/colab-badge.svg\" alt=\"Open In Colab\"/></a>"
      ]
    },
    {
      "cell_type": "code",
      "source": [
        "print(\"Bienvenido, este programa le permitira trabajar con matrices, por favor sigue los siguientes pasos\")\n",
        "matrices = int(input(\"Por favor ingresa el numero de matrices que deseas sumar: \"))\n",
        "\n",
        "if matrices >= 2:\n",
        "\n",
        "    filas = int(input(\"¿Cuantas filas tendrán las matrices?: \"))\n",
        "    columns = int(input(\"¿Cuantas columnas tendrán las matrices?: \"))\n",
        "\n",
        "    lista_matriz = []\n",
        "\n",
        "    # Llenado de matrices (Empieza a contar desde fila 0 - columna 0 ya que en Python empieza desde el 0)\n",
        "    for numero in range(matrices):\n",
        "        matriz = []\n",
        "        for row in range(filas):\n",
        "            new_row = []\n",
        "            for column in range(columns):\n",
        "                new_row.append(\n",
        "                    int(input(f\"Introduce un elemento para la matriz {numero + 1} fila {row}, columna {column}: \")))\n",
        "            matriz.append(new_row)\n",
        "        lista_matriz.append(matriz)\n",
        "\n",
        "    # Suma de las matrices\n",
        "    matriz = []\n",
        "    for row in range(filas):\n",
        "        new_row = []\n",
        "        for column in range(columns):\n",
        "            suma_matriz = 0\n",
        "            for matriz_position in range(len(lista_matriz)):\n",
        "                suma_matriz += lista_matriz[matriz_position][row][column]\n",
        "            new_row.append(suma_matriz)\n",
        "        matriz.append(new_row)\n",
        "    lista_matriz.append(matriz)\n",
        "\n",
        "    # Imprimir matrices\n",
        "    for matrix_row in range(filas):\n",
        "        for lista_matriz_position in range(len(lista_matriz)):\n",
        "            if matrix_row != 1:\n",
        "                print(f\"{lista_matriz[lista_matriz_position][matrix_row]}\", end=\"   \")\n",
        "            else:\n",
        "                if lista_matriz_position < len(lista_matriz) - 2:\n",
        "                    print(f\"{lista_matriz[lista_matriz_position][matrix_row]}\", end=\" + \")\n",
        "                elif lista_matriz_position < len(lista_matriz) - 1:\n",
        "                    print(f\"{lista_matriz[lista_matriz_position][matrix_row]}\", end=\" = \")\n",
        "                else:\n",
        "                    print(f\"{lista_matriz[lista_matriz_position][matrix_row]}\", end=\"   \")\n",
        "        print()\n",
        "\n",
        "else:\n",
        "    print(\"Lo sentimos, pero el sistema solo permite sumas de 2 matrices o mas\")\n",
        "print(\"Fin del programa\")"
      ],
      "metadata": {
        "colab": {
          "base_uri": "https://localhost:8080/"
        },
        "id": "GtwAdrwUDbQs",
        "outputId": "7e041cee-ae1b-4dae-f780-3d1650ec01a3"
      },
      "execution_count": 10,
      "outputs": [
        {
          "output_type": "stream",
          "name": "stdout",
          "text": [
            "Bienvenido, este programa le permitira trabajar con matrices, por favor sigue los siguientes pasos\n",
            "Por favor ingresa el numero de matrices que deseas sumar: 3\n",
            "¿Cuantas filas tendrán las matrices?: 3\n",
            "¿Cuantas columnas tendrán las matrices?: 3\n",
            "Introduce un elemento para la matriz 1 fila 0, columna 0: 1\n",
            "Introduce un elemento para la matriz 1 fila 0, columna 1: 2\n",
            "Introduce un elemento para la matriz 1 fila 0, columna 2: 3\n",
            "Introduce un elemento para la matriz 1 fila 1, columna 0: 4\n",
            "Introduce un elemento para la matriz 1 fila 1, columna 1: 5\n",
            "Introduce un elemento para la matriz 1 fila 1, columna 2: 6\n",
            "Introduce un elemento para la matriz 1 fila 2, columna 0: 7\n",
            "Introduce un elemento para la matriz 1 fila 2, columna 1: 8\n",
            "Introduce un elemento para la matriz 1 fila 2, columna 2: 9\n",
            "Introduce un elemento para la matriz 2 fila 0, columna 0: 0\n",
            "Introduce un elemento para la matriz 2 fila 0, columna 1: 5\n",
            "Introduce un elemento para la matriz 2 fila 0, columna 2: 9\n",
            "Introduce un elemento para la matriz 2 fila 1, columna 0: 12\n",
            "Introduce un elemento para la matriz 2 fila 1, columna 1: 7\n",
            "Introduce un elemento para la matriz 2 fila 1, columna 2: 10\n",
            "Introduce un elemento para la matriz 2 fila 2, columna 0: 22\n",
            "Introduce un elemento para la matriz 2 fila 2, columna 1: 5\n",
            "Introduce un elemento para la matriz 2 fila 2, columna 2: 0\n",
            "Introduce un elemento para la matriz 3 fila 0, columna 0: 3\n",
            "Introduce un elemento para la matriz 3 fila 0, columna 1: 11\n",
            "Introduce un elemento para la matriz 3 fila 0, columna 2: 34\n",
            "Introduce un elemento para la matriz 3 fila 1, columna 0: 2\n",
            "Introduce un elemento para la matriz 3 fila 1, columna 1: 2\n",
            "Introduce un elemento para la matriz 3 fila 1, columna 2: 19\n",
            "Introduce un elemento para la matriz 3 fila 2, columna 0: 10\n",
            "Introduce un elemento para la matriz 3 fila 2, columna 1: 14\n",
            "Introduce un elemento para la matriz 3 fila 2, columna 2: 16\n",
            "[1, 2, 3]   [0, 5, 9]   [3, 11, 34]   [4, 18, 46]   \n",
            "[4, 5, 6] + [12, 7, 10] + [2, 2, 19] = [18, 14, 35]   \n",
            "[7, 8, 9]   [22, 5, 0]   [10, 14, 16]   [39, 27, 25]   \n",
            "Fin del programa\n"
          ]
        }
      ]
    }
  ]
}