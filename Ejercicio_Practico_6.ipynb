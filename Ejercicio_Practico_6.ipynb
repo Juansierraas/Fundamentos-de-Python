{
  "nbformat": 4,
  "nbformat_minor": 0,
  "metadata": {
    "colab": {
      "provenance": [],
      "authorship_tag": "ABX9TyMbzVjlDvgkh9oI6moFk2aR",
      "include_colab_link": true
    },
    "kernelspec": {
      "name": "python3",
      "display_name": "Python 3"
    },
    "language_info": {
      "name": "python"
    }
  },
  "cells": [
    {
      "cell_type": "markdown",
      "metadata": {
        "id": "view-in-github",
        "colab_type": "text"
      },
      "source": [
        "<a href=\"https://colab.research.google.com/github/Juansierraas/Talleres-de-Python/blob/main/Ejercicio_Practico_6.ipynb\" target=\"_parent\"><img src=\"https://colab.research.google.com/assets/colab-badge.svg\" alt=\"Open In Colab\"/></a>"
      ]
    },
    {
      "cell_type": "code",
      "execution_count": 17,
      "metadata": {
        "id": "nXhya7dM-2Dw",
        "colab": {
          "base_uri": "https://localhost:8080/"
        },
        "outputId": "1baf5856-63f9-42f9-e664-7dc692973f99"
      },
      "outputs": [
        {
          "output_type": "stream",
          "name": "stdout",
          "text": [
            "Bienvenido, este programa le permitira digitar una palabra o frase y eliminar exactamente una palabra de esta\n",
            "Ingresa la palabra o frase: Prueba final\n",
            "Ingresa la palabra que deseas eliminar Prueba\n",
            "La palabra o frase que ingresaste fue: Prueba final\n",
            "La palabra o frase inicial con la palabra eliminada es:  final\n",
            "Fin\n"
          ]
        }
      ],
      "source": [
        "print(\"Bienvenido, este programa le permitira digitar una palabra o frase y eliminar exactamente una palabra de esta\")\n",
        "string = (input(\"Ingresa la palabra o frase: \"))\n",
        "palabra = (input(\"Ingresa la palabra que deseas eliminar: \"))\n",
        "substring = \"\"\n",
        "print(\"La palabra o frase que ingresaste fue: \" + (string))\n",
        "substring = string.find(palabra)\n",
        "if substring != -1:\n",
        "  longitud = len(palabra)\n",
        "  string = string[:substring] + string[substring + longitud:]\n",
        "  print(f\"La palabra o frase inicial con la palabra eliminada es: {string}\")\n",
        "else:\n",
        "  print(f\"La palabra que se digito para eliminar no se encuentra en la palabra o frase inicial\")\n",
        "print(\"Fin\")\n"
      ]
    }
  ]
}