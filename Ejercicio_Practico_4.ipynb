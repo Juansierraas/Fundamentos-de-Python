{
  "nbformat": 4,
  "nbformat_minor": 0,
  "metadata": {
    "colab": {
      "provenance": [],
      "authorship_tag": "ABX9TyP0MjEdlsSQHPQKID/tkP1q",
      "include_colab_link": true
    },
    "kernelspec": {
      "name": "python3",
      "display_name": "Python 3"
    },
    "language_info": {
      "name": "python"
    }
  },
  "cells": [
    {
      "cell_type": "markdown",
      "metadata": {
        "id": "view-in-github",
        "colab_type": "text"
      },
      "source": [
        "<a href=\"https://colab.research.google.com/github/Juansierraas/Talleres-de-Python/blob/main/Ejercicio_Practico_4.ipynb\" target=\"_parent\"><img src=\"https://colab.research.google.com/assets/colab-badge.svg\" alt=\"Open In Colab\"/></a>"
      ]
    },
    {
      "cell_type": "code",
      "execution_count": null,
      "metadata": {
        "id": "IEeNQfp-idYj"
      },
      "outputs": [],
      "source": [
        "print(\"CALCULADORA\")\n",
        "print(\"Podras hacer sumas, restas, multiplicaciones, divisiones, divisiones enteras, exponentes y modulo o resto\")\n",
        "numero_uno = int(input(\"Ingresa tu primer numero: \"))\n",
        "numero_dos = int(input(\"Ingresa tu segundo numero: \"))\n",
        "print(\"Para Suma digita 1, para resta digita 2, para multiplicacion digita 3, para division digita 4, para division entera digita 5, para exponente digita 6 y para modulo o resto digita 7\")\n",
        "operacion = int(input(\"Ingresa la operacion que deseas realizar(recuerda que debe ser en base al numero propuesto anteriormente): \"))\n",
        "if operacion == 1:\n",
        "  resultado = numero_uno + numero_dos\n",
        "  print(\"El resultado de la suma es: \" + str(resultado))\n",
        "elif operacion == 2:\n",
        "  resultado = numero_uno - numero_dos\n",
        "  print(\"El resultado de la resta es: \" + str(resultado))\n",
        "elif operacion == 3:\n",
        "  resultado = numero_uno * numero_dos\n",
        "  print(\"El resultado de la multiplicacion es: \" + str(resultado))\n",
        "elif operacion == 4:\n",
        "  resultado = numero_uno / numero_dos\n",
        "  print(\"El resultado de la division es: \" + str(resultado))\n",
        "elif operacion == 5:\n",
        "  resultado = numero_uno // numero_dos\n",
        "  print(\"El resultado de la division entera es: \" + str(resultado))\n",
        "elif operacion == 6:\n",
        "  resultado = numero_uno ** numero_dos\n",
        "  print(\"El resultado del exponente es: \" + str(resultado))\n",
        "elif operacion == 7:\n",
        "  resultado = numero_uno % numero_dos\n",
        "  print(\"El resultado del modulo es: \" + str(resultado))\n",
        "else:\n",
        " print(\"La opción no es valida\")\n",
        "print(\"Fin\")\n"
      ]
    }
  ]
}