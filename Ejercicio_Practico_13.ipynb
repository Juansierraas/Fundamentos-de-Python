{
  "nbformat": 4,
  "nbformat_minor": 0,
  "metadata": {
    "colab": {
      "provenance": [],
      "authorship_tag": "ABX9TyMvLAisjZiQqVWyZ2hI9Ddq",
      "include_colab_link": true
    },
    "kernelspec": {
      "name": "python3",
      "display_name": "Python 3"
    },
    "language_info": {
      "name": "python"
    }
  },
  "cells": [
    {
      "cell_type": "markdown",
      "metadata": {
        "id": "view-in-github",
        "colab_type": "text"
      },
      "source": [
        "<a href=\"https://colab.research.google.com/github/Juansierraas/Talleres-de-Python/blob/main/Ejercicio_Practico_13.ipynb\" target=\"_parent\"><img src=\"https://colab.research.google.com/assets/colab-badge.svg\" alt=\"Open In Colab\"/></a>"
      ]
    },
    {
      "cell_type": "code",
      "execution_count": 4,
      "metadata": {
        "colab": {
          "base_uri": "https://localhost:8080/"
        },
        "id": "vum3els0oVHC",
        "outputId": "1312a68d-e824-4261-a597-beed4561e921"
      },
      "outputs": [
        {
          "output_type": "stream",
          "name": "stdout",
          "text": [
            "Bienvenido, este programa le permitira trabajar con matrices, por favor sigue los siguientes pasos\n",
            "Se te pedira ingresar el tamaño de la matriz desde filas y columnas, y podras ingresar los valores\n",
            "Por favor ingresa la cantidad de filas para la matriz: 3\n",
            "Por favor ingresa la cantidad de columnas para la matriz: 4\n",
            "Ingrese el numero para la posición (1-1): 1\n",
            "Ingrese el numero para la posición (1-2): 2\n",
            "Ingrese el numero para la posición (1-3): 3\n",
            "Ingrese el numero para la posición (1-4): 4\n",
            "Ingrese el numero para la posición (2-1): 5\n",
            "Ingrese el numero para la posición (2-2): 6\n",
            "Ingrese el numero para la posición (2-3): 7\n",
            "Ingrese el numero para la posición (2-4): 8\n",
            "Ingrese el numero para la posición (3-1): 9\n",
            "Ingrese el numero para la posición (3-2): 10\n",
            "Ingrese el numero para la posición (3-3): 11\n",
            "Ingrese el numero para la posición (3-4): 12\n",
            "La matriz completa con sus valores ingresados es: \n",
            "[1, 2, 3, 4]\n",
            "[5, 6, 7, 8]\n",
            "[9, 10, 11, 12]\n"
          ]
        }
      ],
      "source": [
        "print(\"Bienvenido, este programa le permitira trabajar con matrices, por favor sigue los siguientes pasos\")\n",
        "print(\"Se te pedira ingresar el tamaño de la matriz desde filas y columnas, y podras ingresar los valores\")\n",
        "fila = int(input(f\"Por favor ingresa la cantidad de filas para la matriz: \"))\n",
        "columna = int(input(f\"Por favor ingresa la cantidad de columnas para la matriz: \"))\n",
        "matriz = []\n",
        "for k in range(fila):\n",
        "    fila = []\n",
        "    for m in range(columna):\n",
        "      numero = int(input(f\"Ingrese el numero para la posición ({k+1}-{m+1}): \"))\n",
        "      fila.append(numero)\n",
        "    matriz.append(fila)\n",
        "print(\"La matriz completa con sus valores ingresados es: \")\n",
        "for row in matriz:\n",
        "    print(row)"
      ]
    }
  ]
}